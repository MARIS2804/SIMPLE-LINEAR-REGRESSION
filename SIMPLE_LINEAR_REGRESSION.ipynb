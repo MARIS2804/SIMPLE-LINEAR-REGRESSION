{
 "cells": [
  {
   "cell_type": "raw",
   "id": "a8d79581-2921-4de4-8466-57272ba98954",
   "metadata": {},
   "source": [
    "WHAT IS LINEAR REGRESSION?\n",
    "     WHEN TWO VARIABLE, ONE IS INDEPENDENT VARIABLE ANOTHER ONE IS DEPENDENT , IF THESE VARIABLES ARE LINEARLY RELATED ,THEN ONE VARIBLE CAN LINEARLY AFFECT\n",
    "THE ANOTHER VARIABLE.FOR EXAMPLE IF X INCREASES THEN Y ALSO INCREASES. IT IS LINEAR RELATIONSHIP.THEN, WE CAN PREDICT THE INDEPENDENT VARIABLE USING \n",
    "LINEAR REGRESSION EQUATION."
   ]
  },
  {
   "cell_type": "raw",
   "id": "d390f423-7897-4ed1-a6c1-326b8c421497",
   "metadata": {},
   "source": [
    "WHY WE HAVE TO STUDY LINEAR REGRESSION?\n",
    "    GENERAL EQUATION FOR LINEAR REGRESSION =>    Y=m*X+c;    m->SLOPE, c->INTERCEPT,x->INDEPENDENT VARIABLE,Y-> DEPENDENT VARIABLE\n",
    "    m= (Σ(Xi * Yi) - (ΣXi)(ΣYi)) / (Σ(Xi)^2 - (ΣXi)^2);\n",
    "    b = mean(Y)-m;\n",
    "    ->TO PREDICT THE DEPENDENT VARIABLE(Y), WE HAVE TO know m,X,c; m and c can be find by given dataset using above formula; X is given by user; then\n",
    "substitute that in Linear regression formula;\n",
    "    -> TO ANALYZE THE RELATIONSHIP BETWEEN ATTRIBUTE, IF m IS POSTITVE, IF X INCREASES , THEN Y ALSO INCREASES OR ELSE BOTH DECREASES. IF m IS NEGATIVE SLOPE SUGGEST THE OPPOSITE."
   ]
  },
  {
   "cell_type": "code",
   "execution_count": 82,
   "id": "14a3934a-e83b-44a6-87dd-8a25045c53dd",
   "metadata": {},
   "outputs": [
    {
     "data": {
      "text/html": [
       "<div>\n",
       "<style scoped>\n",
       "    .dataframe tbody tr th:only-of-type {\n",
       "        vertical-align: middle;\n",
       "    }\n",
       "\n",
       "    .dataframe tbody tr th {\n",
       "        vertical-align: top;\n",
       "    }\n",
       "\n",
       "    .dataframe thead th {\n",
       "        text-align: right;\n",
       "    }\n",
       "</style>\n",
       "<table border=\"1\" class=\"dataframe\">\n",
       "  <thead>\n",
       "    <tr style=\"text-align: right;\">\n",
       "      <th></th>\n",
       "      <th>YearsExperience</th>\n",
       "      <th>Salary</th>\n",
       "    </tr>\n",
       "  </thead>\n",
       "  <tbody>\n",
       "    <tr>\n",
       "      <th>0</th>\n",
       "      <td>1.1</td>\n",
       "      <td>39343</td>\n",
       "    </tr>\n",
       "    <tr>\n",
       "      <th>1</th>\n",
       "      <td>1.3</td>\n",
       "      <td>46205</td>\n",
       "    </tr>\n",
       "    <tr>\n",
       "      <th>2</th>\n",
       "      <td>1.5</td>\n",
       "      <td>37731</td>\n",
       "    </tr>\n",
       "    <tr>\n",
       "      <th>3</th>\n",
       "      <td>2.0</td>\n",
       "      <td>43525</td>\n",
       "    </tr>\n",
       "    <tr>\n",
       "      <th>4</th>\n",
       "      <td>2.2</td>\n",
       "      <td>39891</td>\n",
       "    </tr>\n",
       "  </tbody>\n",
       "</table>\n",
       "</div>"
      ],
      "text/plain": [
       "   YearsExperience  Salary\n",
       "0              1.1   39343\n",
       "1              1.3   46205\n",
       "2              1.5   37731\n",
       "3              2.0   43525\n",
       "4              2.2   39891"
      ]
     },
     "execution_count": 82,
     "metadata": {},
     "output_type": "execute_result"
    }
   ],
   "source": [
    "import pandas as pd\n",
    "import numpy as np\n",
    "import matplotlib.pyplot as plt\n",
    "df=pd.read_csv(\"SALARY.csv\")\n",
    "df.head()"
   ]
  },
  {
   "cell_type": "code",
   "execution_count": 83,
   "id": "eafe1b6c-c2d4-482e-a175-97f453032083",
   "metadata": {},
   "outputs": [
    {
     "data": {
      "text/plain": [
       "array([[ 1.1],\n",
       "       [ 1.3],\n",
       "       [ 1.5],\n",
       "       [ 2. ],\n",
       "       [ 2.2],\n",
       "       [ 2.9],\n",
       "       [ 3. ],\n",
       "       [ 3.2],\n",
       "       [ 3.2],\n",
       "       [ 3.7],\n",
       "       [ 3.9],\n",
       "       [ 4. ],\n",
       "       [ 4. ],\n",
       "       [ 4.1],\n",
       "       [ 4.5],\n",
       "       [ 4.9],\n",
       "       [ 5.1],\n",
       "       [ 5.3],\n",
       "       [ 5.9],\n",
       "       [ 6. ],\n",
       "       [ 6.8],\n",
       "       [ 7.1],\n",
       "       [ 7.9],\n",
       "       [ 8.2],\n",
       "       [ 8.7],\n",
       "       [ 9. ],\n",
       "       [ 9.5],\n",
       "       [ 9.6],\n",
       "       [10.3],\n",
       "       [10.5],\n",
       "       [ 0. ],\n",
       "       [ 1.2],\n",
       "       [ 1.4],\n",
       "       [ 1.6],\n",
       "       [ 2.1],\n",
       "       [ 2.3],\n",
       "       [ 3. ],\n",
       "       [ 3.1],\n",
       "       [ 3.3],\n",
       "       [ 3.3],\n",
       "       [ 3.8],\n",
       "       [ 4. ],\n",
       "       [ 4.1],\n",
       "       [ 4.1],\n",
       "       [ 4.2],\n",
       "       [ 4.6],\n",
       "       [ 5. ],\n",
       "       [ 5.2],\n",
       "       [ 5.4],\n",
       "       [ 6. ],\n",
       "       [ 6.1],\n",
       "       [ 6.9],\n",
       "       [ 7.2],\n",
       "       [ 8. ],\n",
       "       [ 8.3],\n",
       "       [ 8.8],\n",
       "       [ 9.1],\n",
       "       [ 9.6],\n",
       "       [ 9.7],\n",
       "       [10.4],\n",
       "       [10.6]])"
      ]
     },
     "execution_count": 83,
     "metadata": {},
     "output_type": "execute_result"
    }
   ],
   "source": [
    "from sklearn import linear_model\n",
    "a=linear_model.LinearRegression()\n",
    "X=df[['YearsExperience']].to_numpy().reshape(-1,1)\n",
    "y=df[['Salary']].to_numpy().reshape(-1,1)\n",
    "df2=df['YearsExperience']\n",
    "df3=np.array(df2).reshape(-1,1)\n",
    "df3"
   ]
  },
  {
   "cell_type": "code",
   "execution_count": 84,
   "id": "7dd19692-3cd7-40cc-a43f-ce1be19300ce",
   "metadata": {},
   "outputs": [
    {
     "data": {
      "text/plain": [
       "<Axes: xlabel='Salary', ylabel='YearsExperience'>"
      ]
     },
     "execution_count": 84,
     "metadata": {},
     "output_type": "execute_result"
    },
    {
     "data": {
      "image/png": "[encoded data removed]",
      "text/plain": [
       "<Figure size 640x480 with 1 Axes>"
      ]
     },
     "metadata": {},
     "output_type": "display_data"
    }
   ],
   "source": [
    "df.plot.scatter(x='Salary',y='YearsExperience',color='red',marker='+')\n",
    "#THERE IS LINEAR RELATIONSHIP BETWEEN THE ATTRIBUTE(YEARS & SALARY)"
   ]
  },
  {
   "cell_type": "code",
   "execution_count": 85,
   "id": "542b8e52-7c47-429c-b697-729a39e0f3c1",
   "metadata": {},
   "outputs": [
    {
     "data": {
      "text/html": [
       "<style>#sk-container-id-7 {color: black;}#sk-container-id-7 pre{padding: 0;}#sk-container-id-7 div.sk-toggleable {background-color: white;}#sk-container-id-7 label.sk-toggleable__label {cursor: pointer;display: block;width: 100%;margin-bottom: 0;padding: 0.3em;box-sizing: border-box;text-align: center;}#sk-container-id-7 label.sk-toggleable__label-arrow:before {content: \"▸\";float: left;margin-right: 0.25em;color: #696969;}#sk-container-id-7 label.sk-toggleable__label-arrow:hover:before {color: black;}#sk-container-id-7 div.sk-estimator:hover label.sk-toggleable__label-arrow:before {color: black;}#sk-container-id-7 div.sk-toggleable__content {max-height: 0;max-width: 0;overflow: hidden;text-align: left;background-color: #f0f8ff;}#sk-container-id-7 div.sk-toggleable__content pre {margin: 0.2em;color: black;border-radius: 0.25em;background-color: #f0f8ff;}#sk-container-id-7 input.sk-toggleable__control:checked~div.sk-toggleable__content {max-height: 200px;max-width: 100%;overflow: auto;}#sk-container-id-7 input.sk-toggleable__control:checked~label.sk-toggleable__label-arrow:before {content: \"▾\";}#sk-container-id-7 div.sk-estimator input.sk-toggleable__control:checked~label.sk-toggleable__label {background-color: #d4ebff;}#sk-container-id-7 div.sk-label input.sk-toggleable__control:checked~label.sk-toggleable__label {background-color: #d4ebff;}#sk-container-id-7 input.sk-hidden--visually {border: 0;clip: rect(1px 1px 1px 1px);clip: rect(1px, 1px, 1px, 1px);height: 1px;margin: -1px;overflow: hidden;padding: 0;position: absolute;width: 1px;}#sk-container-id-7 div.sk-estimator {font-family: monospace;background-color: #f0f8ff;border: 1px dotted black;border-radius: 0.25em;box-sizing: border-box;margin-bottom: 0.5em;}#sk-container-id-7 div.sk-estimator:hover {background-color: #d4ebff;}#sk-container-id-7 div.sk-parallel-item::after {content: \"\";width: 100%;border-bottom: 1px solid gray;flex-grow: 1;}#sk-container-id-7 div.sk-label:hover label.sk-toggleable__label {background-color: #d4ebff;}#sk-container-id-7 div.sk-serial::before {content: \"\";position: absolute;border-left: 1px solid gray;box-sizing: border-box;top: 0;bottom: 0;left: 50%;z-index: 0;}#sk-container-id-7 div.sk-serial {display: flex;flex-direction: column;align-items: center;background-color: white;padding-right: 0.2em;padding-left: 0.2em;position: relative;}#sk-container-id-7 div.sk-item {position: relative;z-index: 1;}#sk-container-id-7 div.sk-parallel {display: flex;align-items: stretch;justify-content: center;background-color: white;position: relative;}#sk-container-id-7 div.sk-item::before, #sk-container-id-7 div.sk-parallel-item::before {content: \"\";position: absolute;border-left: 1px solid gray;box-sizing: border-box;top: 0;bottom: 0;left: 50%;z-index: -1;}#sk-container-id-7 div.sk-parallel-item {display: flex;flex-direction: column;z-index: 1;position: relative;background-color: white;}#sk-container-id-7 div.sk-parallel-item:first-child::after {align-self: flex-end;width: 50%;}#sk-container-id-7 div.sk-parallel-item:last-child::after {align-self: flex-start;width: 50%;}#sk-container-id-7 div.sk-parallel-item:only-child::after {width: 0;}#sk-container-id-7 div.sk-dashed-wrapped {border: 1px dashed gray;margin: 0 0.4em 0.5em 0.4em;box-sizing: border-box;padding-bottom: 0.4em;background-color: white;}#sk-container-id-7 div.sk-label label {font-family: monospace;font-weight: bold;display: inline-block;line-height: 1.2em;}#sk-container-id-7 div.sk-label-container {text-align: center;}#sk-container-id-7 div.sk-container {/* jupyter's `normalize.less` sets `[hidden] { display: none; }` but bootstrap.min.css set `[hidden] { display: none !important; }` so we also need the `!important` here to be able to override the default hidden behavior on the sphinx rendered scikit-learn.org. See: https://github.com/scikit-learn/scikit-learn/issues/21755 */display: inline-block !important;position: relative;}#sk-container-id-7 div.sk-text-repr-fallback {display: none;}</style><div id=\"sk-container-id-7\" class=\"sk-top-container\"><div class=\"sk-text-repr-fallback\"><pre>LinearRegression()</pre><b>In a Jupyter environment, please rerun this cell to show the HTML representation or trust the notebook. <br />On GitHub, the HTML representation is unable to render, please try loading this page with nbviewer.org.</b></div><div class=\"sk-container\" hidden><div class=\"sk-item\"><div class=\"sk-estimator sk-toggleable\"><input class=\"sk-toggleable__control sk-hidden--visually\" id=\"sk-estimator-id-7\" type=\"checkbox\" checked><label for=\"sk-estimator-id-7\" class=\"sk-toggleable__label sk-toggleable__label-arrow\">LinearRegression</label><div class=\"sk-toggleable__content\"><pre>LinearRegression()</pre></div></div></div></div></div>"
      ],
      "text/plain": [
       "LinearRegression()"
      ]
     },
     "execution_count": 85,
     "metadata": {},
     "output_type": "execute_result"
    }
   ],
   "source": [
    "a.fit(X,y)"
   ]
  },
  {
   "cell_type": "code",
   "execution_count": 86,
   "id": "796897e2-60f8-494a-aa93-71addeea8d17",
   "metadata": {},
   "outputs": [
    {
     "data": {
      "text/plain": [
       "array([[43903.19154619]])"
      ]
     },
     "execution_count": 86,
     "metadata": {},
     "output_type": "execute_result"
    }
   ],
   "source": [
    "#TO PREDICT WE HAVE TO PASS THE INDEPENDENT VARIABLE AS ARRAY\n",
    "x=2.1\n",
    "x1=np.array(x).reshape(-1,1)\n",
    "a.predict(x1)"
   ]
  },
  {
   "cell_type": "code",
   "execution_count": 87,
   "id": "ed1b006e-e52f-40e9-aa4a-8ae8393a962b",
   "metadata": {},
   "outputs": [
    {
     "data": {
      "text/plain": [
       "array([[ 34186.54045852],\n",
       "       [ 36129.87067605],\n",
       "       [ 38073.20089359],\n",
       "       [ 42931.52643742],\n",
       "       [ 44874.85665496],\n",
       "       [ 51676.51241633],\n",
       "       [ 52648.1775251 ],\n",
       "       [ 54591.50774263],\n",
       "       [ 54591.50774263],\n",
       "       [ 59449.83328647],\n",
       "       [ 61393.163504  ],\n",
       "       [ 62364.82861277],\n",
       "       [ 62364.82861277],\n",
       "       [ 63336.49372154],\n",
       "       [ 67223.15415661],\n",
       "       [ 71109.81459168],\n",
       "       [ 73053.14480921],\n",
       "       [ 74996.47502675],\n",
       "       [ 80826.46567935],\n",
       "       [ 81798.13078812],\n",
       "       [ 89571.45165826],\n",
       "       [ 92486.44698456],\n",
       "       [100259.7678547 ],\n",
       "       [103174.763181  ],\n",
       "       [108033.08872484],\n",
       "       [110948.08405114],\n",
       "       [115806.40959497],\n",
       "       [116778.07470374],\n",
       "       [123579.73046511],\n",
       "       [125523.06068265],\n",
       "       [ 23498.22426208],\n",
       "       [ 35158.20556728],\n",
       "       [ 37101.53578482],\n",
       "       [ 39044.86600235],\n",
       "       [ 43903.19154619],\n",
       "       [ 45846.52176373],\n",
       "       [ 52648.1775251 ],\n",
       "       [ 53619.84263386],\n",
       "       [ 55563.1728514 ],\n",
       "       [ 55563.1728514 ],\n",
       "       [ 60421.49839524],\n",
       "       [ 62364.82861277],\n",
       "       [ 63336.49372154],\n",
       "       [ 63336.49372154],\n",
       "       [ 64308.15883031],\n",
       "       [ 68194.81926537],\n",
       "       [ 72081.47970044],\n",
       "       [ 74024.80991798],\n",
       "       [ 75968.14013551],\n",
       "       [ 81798.13078812],\n",
       "       [ 82769.79589688],\n",
       "       [ 90543.11676702],\n",
       "       [ 93458.11209333],\n",
       "       [101231.43296346],\n",
       "       [104146.42828977],\n",
       "       [109004.7538336 ],\n",
       "       [111919.74915991],\n",
       "       [116778.07470374],\n",
       "       [117749.73981251],\n",
       "       [124551.39557388],\n",
       "       [126494.72579142]])"
      ]
     },
     "execution_count": 87,
     "metadata": {},
     "output_type": "execute_result"
    }
   ],
   "source": [
    "a.predict(df3)"
   ]
  },
  {
   "cell_type": "code",
   "execution_count": 88,
   "id": "7feaef24-9c7d-41ef-8a4e-ad825660f33f",
   "metadata": {},
   "outputs": [
    {
     "data": {
      "text/html": [
       "<div>\n",
       "<style scoped>\n",
       "    .dataframe tbody tr th:only-of-type {\n",
       "        vertical-align: middle;\n",
       "    }\n",
       "\n",
       "    .dataframe tbody tr th {\n",
       "        vertical-align: top;\n",
       "    }\n",
       "\n",
       "    .dataframe thead th {\n",
       "        text-align: right;\n",
       "    }\n",
       "</style>\n",
       "<table border=\"1\" class=\"dataframe\">\n",
       "  <thead>\n",
       "    <tr style=\"text-align: right;\">\n",
       "      <th></th>\n",
       "      <th>YearsExperience</th>\n",
       "      <th>Salary</th>\n",
       "    </tr>\n",
       "  </thead>\n",
       "  <tbody>\n",
       "    <tr>\n",
       "      <th>34</th>\n",
       "      <td>2.1</td>\n",
       "      <td>43526</td>\n",
       "    </tr>\n",
       "  </tbody>\n",
       "</table>\n",
       "</div>"
      ],
      "text/plain": [
       "    YearsExperience  Salary\n",
       "34              2.1   43526"
      ]
     },
     "execution_count": 88,
     "metadata": {},
     "output_type": "execute_result"
    }
   ],
   "source": [
    "df[(df['YearsExperience']==2.1)]"
   ]
  },
  {
   "cell_type": "code",
   "execution_count": 89,
   "id": "4d6c546d-12a6-44a1-a045-b4bd4a8c3adb",
   "metadata": {},
   "outputs": [
    {
     "data": {
      "text/plain": [
       "array([[9716.65108767]])"
      ]
     },
     "execution_count": 89,
     "metadata": {},
     "output_type": "execute_result"
    }
   ],
   "source": [
    "slope=a.coef_\n",
    "slope"
   ]
  },
  {
   "cell_type": "code",
   "execution_count": 90,
   "id": "73e1ec6d-12ee-4406-a5da-756191ce7cb3",
   "metadata": {},
   "outputs": [
    {
     "data": {
      "text/plain": [
       "array([23498.22426208])"
      ]
     },
     "execution_count": 90,
     "metadata": {},
     "output_type": "execute_result"
    }
   ],
   "source": [
    "intercept=a.intercept_\n",
    "intercept"
   ]
  },
  {
   "cell_type": "code",
   "execution_count": 91,
   "id": "fb8976bb-1ae4-446c-a70f-acfcc8045b16",
   "metadata": {},
   "outputs": [
    {
     "data": {
      "text/plain": [
       "array([[43903.19154619]])"
      ]
     },
     "execution_count": 91,
     "metadata": {},
     "output_type": "execute_result"
    }
   ],
   "source": [
    "#LINEAR REGRESSION FORMULA :    y=slope*x+intercept;\n",
    "#WHEN WE GIVE THE DATA SET TO MODEL. IT AUTOMATICALLY CALCULATE THE SLOPE AND INTERCEPT , THEN WHEN WWE GIVE YEAR_OF_EXPERIENCE(INDEPENDENT VARIABLE)\n",
    "#IT SUBSTITUTES TO THAT FORMULA AND GIVE THE RESULT .\n",
    "y=slope*x+intercept\n",
    "y"
   ]
  },
  {
   "cell_type": "code",
   "execution_count": 92,
   "id": "3e23d2a5-ac88-402b-b978-1fef282d3454",
   "metadata": {},
   "outputs": [
    {
     "data": {
      "text/plain": [
       "[<matplotlib.lines.Line2D at 0x21d2d4bd580>]"
      ]
     },
     "execution_count": 92,
     "metadata": {},
     "output_type": "execute_result"
    },
    {
     "data": {
      "image/png": "[encoded data removed]",
      "text/plain": [
       "<Figure size 640x480 with 1 Axes>"
      ]
     },
     "metadata": {},
     "output_type": "display_data"
    }
   ],
   "source": [
    "%matplotlib inline\n",
    "#df.plot.scatter(x='Salary',y='YearsExperience',color='red',marker='+')\n",
    "plt.scatter(df.YearsExperience,df.Salary)\n",
    "plt.plot(df.YearsExperience,a.predict(df3),color='red')"
   ]
  },
  {
   "cell_type": "raw",
   "id": "45250edc-ff43-4aa0-a2d0-625d7154ae3d",
   "metadata": {},
   "source": [
    "CONCLUSION:\n",
    "LINEAR REGRESSION IS USE TO PREDICT THE DEPENDENT VARIABLE AND ANALZE THE RELATIONSHIP BETWEEN THE ATTRIBUTE.IF ATTRIBUTES IN TABLE ARE IN LINEAR RELATIONSHIP, THEN WE CAN USE LINEAR REGRESSION."
   ]
  }
 ],
 "metadata": {
  "kernelspec": {
   "display_name": "Python 3 (ipykernel)",
   "language": "python",
   "name": "python3"
  },
  "language_info": {
   "codemirror_mode": {
    "name": "ipython",
    "version": 3
   },
   "file_extension": ".py",
   "mimetype": "text/x-python",
   "name": "python",
   "nbconvert_exporter": "python",
   "pygments_lexer": "ipython3",
   "version": "3.8.2"
  }
 },
 "nbformat": 4,
 "nbformat_minor": 5
}
